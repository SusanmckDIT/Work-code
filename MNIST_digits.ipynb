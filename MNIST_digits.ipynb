{
  "nbformat": 4,
  "nbformat_minor": 0,
  "metadata": {
    "colab": {
      "name": "MNIST digits.ipynb",
      "provenance": [],
      "include_colab_link": true
    },
    "kernelspec": {
      "name": "python3",
      "display_name": "Python 3"
    },
    "language_info": {
      "name": "python"
    }
  },
  "cells": [
    {
      "cell_type": "markdown",
      "metadata": {
        "id": "view-in-github",
        "colab_type": "text"
      },
      "source": [
        "<a href=\"https://colab.research.google.com/github/SusanmckDIT/Work-code/blob/master/MNIST_digits.ipynb\" target=\"_parent\"><img src=\"https://colab.research.google.com/assets/colab-badge.svg\" alt=\"Open In Colab\"/></a>"
      ]
    },
    {
      "cell_type": "markdown",
      "metadata": {
        "id": "vTr5o3oOhbhK"
      },
      "source": [
        "Below you will find code to run a very simple Deep Learning example for training a model on the MNIST digits dataset. \n",
        "\n",
        "This is based on a well known simple implementation available on the Tensorflow website. "
      ]
    },
    {
      "cell_type": "code",
      "metadata": {
        "id": "EGW9L6MLRIfN",
        "colab": {
          "base_uri": "https://localhost:8080/"
        },
        "outputId": "f40db98d-baed-4709-d540-dde63e60254c"
      },
      "source": [
        "# import tensorflow library \n",
        "import tensorflow as tf \n",
        "\n",
        "# Get a copy of the mnist dataset container \n",
        "mnist = tf.keras.datasets.mnist \n",
        "\n",
        "# Pull out the training and test data \n",
        "(x_train, y_train),(x_test, y_test) = mnist.load_data() \n",
        "\n",
        "# Normalize the training and test datasets\n",
        "x_train = tf.keras.utils.normalize(x_train, axis=1)\n",
        "x_test = tf.keras.utils.normalize(x_test, axis=1)\n",
        "\n",
        "# Create a simple sequential network object\n",
        "model = tf.keras.models.Sequential()\n",
        "\n",
        "# Add layers to the network for processing the input data \n",
        "model.add(tf.keras.layers.Flatten())\n",
        "model.add(tf.keras.layers.Dense(64, activation=tf.nn.sigmoid))\n",
        "model.add(tf.keras.layers.Dense(10, activation=tf.nn.softmax))\n",
        "\n",
        "# Compile the model\n",
        "model.compile(optimizer=\"adam\", loss=\"sparse_categorical_crossentropy\", metrics=[\"accuracy\"])\n",
        "\n",
        "# Start the training process\n",
        "model.fit(x=x_train, y=y_train, epochs=5) \n",
        "\n",
        "# Evaluate the model performance with test data\n",
        "test_loss, test_acc = model.evaluate(x=x_test, y=y_test,verbose=0)\n",
        "\n",
        "# Print out the model accuracy \n",
        "print('\\nTest accuracy: ' + str(test_acc*100) + \"%\" )"
      ],
      "execution_count": null,
      "outputs": [
        {
          "output_type": "stream",
          "text": [
            "Downloading data from https://storage.googleapis.com/tensorflow/tf-keras-datasets/mnist.npz\n",
            "11493376/11490434 [==============================] - 0s 0us/step\n",
            "Epoch 1/5\n",
            "1875/1875 [==============================] - 3s 1ms/step - loss: 0.5845 - accuracy: 0.8615\n",
            "Epoch 2/5\n",
            "1875/1875 [==============================] - 3s 1ms/step - loss: 0.2689 - accuracy: 0.9233\n",
            "Epoch 3/5\n",
            "1875/1875 [==============================] - 3s 1ms/step - loss: 0.2124 - accuracy: 0.9399\n",
            "Epoch 4/5\n",
            "1875/1875 [==============================] - 3s 1ms/step - loss: 0.1773 - accuracy: 0.9487\n",
            "Epoch 5/5\n",
            "1875/1875 [==============================] - 3s 1ms/step - loss: 0.1522 - accuracy: 0.9562\n",
            "\n",
            "Test accuracy: 95.32999992370605%\n"
          ],
          "name": "stdout"
        }
      ]
    }
  ]
}