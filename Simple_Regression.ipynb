{
  "nbformat": 4,
  "nbformat_minor": 0,
  "metadata": {
    "colab": {
      "name": "Simple Regression.ipynb",
      "provenance": [],
      "include_colab_link": true
    },
    "kernelspec": {
      "name": "python3",
      "display_name": "Python 3"
    },
    "language_info": {
      "name": "python"
    }
  },
  "cells": [
    {
      "cell_type": "markdown",
      "metadata": {
        "id": "view-in-github",
        "colab_type": "text"
      },
      "source": [
        "<a href=\"https://colab.research.google.com/github/SusanmckDIT/Work-code/blob/master/Simple_Regression.ipynb\" target=\"_parent\"><img src=\"https://colab.research.google.com/assets/colab-badge.svg\" alt=\"Open In Colab\"/></a>"
      ]
    },
    {
      "cell_type": "markdown",
      "metadata": {
        "id": "vTr5o3oOhbhK"
      },
      "source": [
        "# Simple Regression (with a Neural Network)\n",
        "\n",
        "Let's set up an example with that toy data that we have been looking at. This is a much much simpler example that we would normally work with, but it is useful to see what is going on. \n",
        "\n",
        "## Step 1: Let's set up the Data "
      ]
    },
    {
      "cell_type": "code",
      "metadata": {
        "colab": {
          "base_uri": "https://localhost:8080/",
          "height": 295
        },
        "id": "C5Dg8kmy07zy",
        "outputId": "a4b56555-187a-4633-a743-38e183c73d20"
      },
      "source": [
        "# import tensorflow, numpy, and graphing libraries\n",
        "import tensorflow as tf \n",
        "import numpy as np\n",
        "import matplotlib.pyplot as plt\n",
        "%matplotlib inline\n",
        "\n",
        "# create our training data \n",
        "x_train = np.array([1,3,4,7,10,11,14,13.5,16,18,22])\n",
        "y_train = np.array([60,90,100.5,130,128,140,160,140,165,162,155])\n",
        "\n",
        "# plot our training data \n",
        "plt.plot(x_train,y_train, \"o\")\n",
        "plt.title('Height versus Age')\n",
        "plt.xlabel('Age (years)')\n",
        "plt.ylabel('Height (cm)')\n",
        "plt.show()"
      ],
      "execution_count": null,
      "outputs": [
        {
          "output_type": "display_data",
          "data": {
            "image/png": "[encoded data removed]",
            "text/plain": [
              "<Figure size 432x288 with 1 Axes>"
            ]
          },
          "metadata": {
            "tags": [],
            "needs_background": "light"
          }
        }
      ]
    },
    {
      "cell_type": "markdown",
      "metadata": {
        "id": "rl3OjvFE42Yk"
      },
      "source": [
        "## Step 2: Let's Build a Basic Model and visualise the Accuracy Improvement over epochs "
      ]
    },
    {
      "cell_type": "code",
      "metadata": {
        "id": "EGW9L6MLRIfN",
        "colab": {
          "base_uri": "https://localhost:8080/"
        },
        "outputId": "0fc47422-cf2a-43ad-bfdb-8afb2ecd86b7"
      },
      "source": [
        "# Create a simple sequential network object\n",
        "model = tf.keras.models.Sequential()\n",
        "# Let's define our hidden layers. (Tensorflow will figure out the input layer from the data we give it)\n",
        "model.add(tf.keras.layers.Dense(32, activation=tf.nn.sigmoid))\n",
        "model.add(tf.keras.layers.Dense(32, activation=tf.nn.sigmoid))\n",
        "model.add(tf.keras.layers.Dense(10))\n",
        "# Let's define our output layer. We have a single regression problem, so our output\n",
        "# layer is a single neuron without an associated non-linear activation function. \n",
        "model.add(tf.keras.layers.Dense(1))\n",
        "\n",
        "# Compile the model\n",
        "model.compile(optimizer=\"adam\", loss=\"mse\", metrics=[\"mape\"])\n",
        "\n",
        "# Start the training process\n",
        "history = model.fit(x=x_train, y=y_train, epochs=30000, verbose=0) \n",
        "\n",
        "plt.plot(history.history['mape'])\n",
        "plt.title('Mean Absolute Percentage Error')\n",
        "plt.xlabel('Training Epochs')\n",
        "plt.ylabel('MAPE')\n",
        "\n",
        "print(\"Final MAPE:\",history.history['mape'][-1])"
      ],
      "execution_count": null,
      "outputs": [
        {
          "output_type": "stream",
          "text": [
            "Final MAPE: 2.4797167498036288e-05\n"
          ],
          "name": "stdout"
        },
        {
          "output_type": "display_data",
          "data": {
            "image/png": "[encoded data removed]",
            "text/plain": [
              "<Figure size 432x288 with 1 Axes>"
            ]
          },
          "metadata": {
            "tags": [],
            "needs_background": "light"
          }
        }
      ]
    },
    {
      "cell_type": "markdown",
      "metadata": {
        "id": "Zjd3wuuV5G9D"
      },
      "source": [
        "## Step 3: Use some 'test' data \n",
        "\n",
        "We are going to gnerate some new input data points, generate predictions, and then plot the results "
      ]
    },
    {
      "cell_type": "code",
      "metadata": {
        "colab": {
          "base_uri": "https://localhost:8080/"
        },
        "id": "So2NI1AK0UNs",
        "outputId": "751a6dc0-04c1-4804-bd47-6823ea3f80b7"
      },
      "source": [
        "# Create the new datapoints (and print them so we are clear on what we have)\n",
        "x_test = np.arange(0,22,0.3)\n",
        "print(x_test)"
      ],
      "execution_count": null,
      "outputs": [
        {
          "output_type": "stream",
          "text": [
            "[ 0.   0.3  0.6  0.9  1.2  1.5  1.8  2.1  2.4  2.7  3.   3.3  3.6  3.9\n",
            "  4.2  4.5  4.8  5.1  5.4  5.7  6.   6.3  6.6  6.9  7.2  7.5  7.8  8.1\n",
            "  8.4  8.7  9.   9.3  9.6  9.9 10.2 10.5 10.8 11.1 11.4 11.7 12.  12.3\n",
            " 12.6 12.9 13.2 13.5 13.8 14.1 14.4 14.7 15.  15.3 15.6 15.9 16.2 16.5\n",
            " 16.8 17.1 17.4 17.7 18.  18.3 18.6 18.9 19.2 19.5 19.8 20.1 20.4 20.7\n",
            " 21.  21.3 21.6 21.9]\n"
          ],
          "name": "stdout"
        }
      ]
    },
    {
      "cell_type": "code",
      "metadata": {
        "colab": {
          "base_uri": "https://localhost:8080/"
        },
        "id": "-ikjFQn05hWV",
        "outputId": "e4b3c4ce-5e64-499d-ab28-1f1e28d995ee"
      },
      "source": [
        "# Generate predictions for each individual case\n",
        "predictions = model.predict(x_test)\n",
        "predictions = predictions.flatten()\n",
        "print(predictions)"
      ],
      "execution_count": null,
      "outputs": [
        {
          "output_type": "stream",
          "text": [
            "[ 47.24317   50.51056   54.263195  58.492542  63.14009   68.08378\n",
            "  73.13616   78.062515  82.62185   86.62501   89.99991   92.86008\n",
            "  95.59616   99.008575 104.279884 112.00033  120.33649  126.22877\n",
            " 129.08992  130.15666  130.4405   130.41487  130.2675   130.0708\n",
            " 129.85387  129.62929  129.4032   129.17897  128.95888  128.74463\n",
            " 128.53793  128.34068  128.15742  128.01524  128.15694  130.5255\n",
            " 137.62477  140.37701  140.57625  140.51218  140.43855  140.36105\n",
            " 140.19647  139.65315  139.0214   139.99988  150.14601  162.60788\n",
            " 164.8616   165.06857  165.07944  165.0696   165.0514   165.0174\n",
            " 164.95084  164.82426  164.59845  164.22722  163.67122  162.91837\n",
            " 161.99995  160.98749  159.969    159.0196   158.18497  157.48106\n",
            " 156.90314  156.43599  156.0611   155.76068  155.51941  155.32474\n",
            " 155.16672  155.03761 ]\n"
          ],
          "name": "stdout"
        }
      ]
    },
    {
      "cell_type": "code",
      "metadata": {
        "colab": {
          "base_uri": "https://localhost:8080/"
        },
        "id": "Onb9lbNz6Cxw",
        "outputId": "2756a82b-c534-4ad2-e433-36e8f9bb770c"
      },
      "source": [
        "# Print plot these over the original training data \n",
        "plt.plot(x_train,y_train, \"o\")\n",
        "plt.plot(x_test,predictions, \"x\")\n",
        "plt.title('Height versus Age')\n",
        "plt.xlabel('Age (years)')\n",
        "plt.ylabel('Height (cm)')\n",
        "plt.show()"
      ],
      "execution_count": null,
      "outputs": [
        {
          "output_type": "display_data",
          "data": {
            "image/png": "[encoded data removed]",
            "text/plain": [
              "<Figure size 432x288 with 1 Axes>"
            ]
          },
          "metadata": {
            "tags": [],
            "needs_background": "light"
          }
        }
      ]
    },
    {
      "cell_type": "markdown",
      "metadata": {
        "id": "PSvBloXzB9H5"
      },
      "source": [
        "OK.  so that model is a good fit. How about we retry and be bad machine learning people instead. Change the number of epochs to 30000 instead (add a zero), and re-run this notebook. What is your impression of the model performance now? \n",
        "\n",
        "Keep in mind that the same type of overfitting effect can be achieved with more sophisticated architectures as well as the addition of more training time. "
      ]
    }
  ]
}