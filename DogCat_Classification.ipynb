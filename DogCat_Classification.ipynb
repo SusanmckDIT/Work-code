{
  "nbformat": 4,
  "nbformat_minor": 0,
  "metadata": {
    "colab": {
      "name": "DogCat Classification.ipynb",
      "provenance": [],
      "include_colab_link": true
    },
    "kernelspec": {
      "name": "python3",
      "display_name": "Python 3"
    },
    "language_info": {
      "name": "python"
    },
    "accelerator": "GPU"
  },
  "cells": [
    {
      "cell_type": "markdown",
      "metadata": {
        "id": "view-in-github",
        "colab_type": "text"
      },
      "source": [
        "<a href=\"https://colab.research.google.com/github/SusanmckDIT/Work-code/blob/master/DogCat_Classification.ipynb\" target=\"_parent\"><img src=\"https://colab.research.google.com/assets/colab-badge.svg\" alt=\"Open In Colab\"/></a>"
      ]
    },
    {
      "cell_type": "markdown",
      "metadata": {
        "id": "vTr5o3oOhbhK"
      },
      "source": [
        "Below you will find code to run a very simple Deep Learning example for training a model on the MNIST digits dataset. \n",
        "\n",
        "For further details have a look at the Tensorflow website from which this is based:\n",
        "https://www.tensorflow.org/tutorials/images/cnn"
      ]
    },
    {
      "cell_type": "code",
      "metadata": {
        "id": "lkD4C2_fK8dp"
      },
      "source": [
        "## Step 1: Set up the data and take care of imports. "
      ],
      "execution_count": null,
      "outputs": []
    },
    {
      "cell_type": "code",
      "metadata": {
        "colab": {
          "base_uri": "https://localhost:8080/"
        },
        "id": "xouFeqW2HWef",
        "outputId": "f8e1f05b-a3e2-4c1f-83fc-1d6d657adf29"
      },
      "source": [
        "# import tensorflow library \n",
        "import tensorflow as tf\n",
        "from tensorflow.keras import datasets, layers, models\n",
        "from tensorflow.keras.layers import Dense, GlobalAveragePooling2D\n",
        "from tensorflow.keras.models import Model\n",
        "import matplotlib.pyplot as plt\n",
        "import os\n",
        "from tensorflow.keras.preprocessing import image_dataset_from_directory\n",
        "\n",
        "# Load the data - keras only has a limited number of datasets preloaded \n",
        "_URL = 'https://storage.googleapis.com/mledu-datasets/cats_and_dogs_filtered.zip'\n",
        "path_to_zip = tf.keras.utils.get_file('cats_and_dogs.zip', origin=_URL, extract=True)\n",
        "PATH = os.path.join(os.path.dirname(path_to_zip), 'cats_and_dogs_filtered')\n",
        "train_dir = os.path.join(PATH, 'train')\n",
        "validation_dir = os.path.join(PATH, 'validation')\n",
        "\n",
        "BATCH_SIZE = 32\n",
        "IMG_SIZE = (160, 160)\n",
        "IMG_SHAPE = IMG_SIZE + (3,)\n",
        "\n",
        "train_dataset = image_dataset_from_directory(train_dir,\n",
        "                                             shuffle=True,\n",
        "                                             batch_size=BATCH_SIZE,\n",
        "                                             image_size=IMG_SIZE)\n",
        "\n",
        "validation_dataset = image_dataset_from_directory(validation_dir,\n",
        "                                                  shuffle=True,\n",
        "                                                  batch_size=BATCH_SIZE,\n",
        "                                                  image_size=IMG_SIZE)"
      ],
      "execution_count": null,
      "outputs": [
        {
          "output_type": "stream",
          "text": [
            "Found 2000 files belonging to 2 classes.\n",
            "Found 1000 files belonging to 2 classes.\n"
          ],
          "name": "stdout"
        }
      ]
    },
    {
      "cell_type": "markdown",
      "metadata": {
        "id": "Mdac6aq0LAmi"
      },
      "source": [
        "## Step 2: Define the Training Process"
      ]
    },
    {
      "cell_type": "code",
      "metadata": {
        "id": "k9cSnNm4LFdH"
      },
      "source": [
        "def run_training(model, epochs): \n",
        "  print(model.summary())\n",
        "\n",
        "  base_learning_rate = 0.0001\n",
        "  model.compile(optimizer=tf.keras.optimizers.Adam(learning_rate=base_learning_rate),\n",
        "                loss=tf.keras.losses.BinaryCrossentropy(from_logits=True),\n",
        "                metrics=['accuracy'])\n",
        "\n",
        "  history = model.fit(train_dataset,\n",
        "                      epochs=epochs,\n",
        "                      validation_data=validation_dataset)\n",
        "  \n",
        "  plt.plot(history.history['val_accuracy'])\n",
        "  plt.title('Validation Accuracy over Training')\n",
        "  plt.xlabel('Training Epochs')\n",
        "  plt.ylabel('Accuracy')\n",
        "\n",
        "  print(\"Final Validation Accuracy:\",history.history['val_accuracy'][-1])"
      ],
      "execution_count": null,
      "outputs": []
    },
    {
      "cell_type": "markdown",
      "metadata": {
        "id": "fvT4BTJyLFq0"
      },
      "source": [
        "Step 3: Let's Try Training with a CNN model that we define from scratch. Please note that sometimes this model trains and sometimes it doesn't learn enough in the time we want to give it here. "
      ]
    },
    {
      "cell_type": "code",
      "metadata": {
        "colab": {
          "base_uri": "https://localhost:8080/",
          "height": 1000
        },
        "id": "DWJbXyreLLqb",
        "outputId": "2a13a1ba-225b-451c-e98a-072958dbd065"
      },
      "source": [
        "# Build a CNN based model that we will use to learn classification from scratch\n",
        "model = models.Sequential()\n",
        "model.add(layers.Conv2D(32, (3, 3), activation='relu', input_shape=(160, 160, 3)))\n",
        "model.add(layers.MaxPooling2D((2, 2)))\n",
        "model.add(layers.Conv2D(64, (3, 3), activation='relu'))\n",
        "model.add(layers.MaxPooling2D((2, 2)))\n",
        "model.add(layers.Conv2D(64, (3, 3), activation='relu'))\n",
        "model.add(layers.Flatten())\n",
        "model.add(layers.Dropout(0.2))\n",
        "model.add(layers.Dense(64, activation='relu'))\n",
        "model.add(layers.Dropout(0.2))\n",
        "model.add(layers.Dense(1))\n",
        "\n",
        "run_training(model,10)"
      ],
      "execution_count": null,
      "outputs": [
        {
          "output_type": "stream",
          "text": [
            "Model: \"sequential_1\"\n",
            "_________________________________________________________________\n",
            "Layer (type)                 Output Shape              Param #   \n",
            "=================================================================\n",
            "conv2d_3 (Conv2D)            (None, 158, 158, 32)      896       \n",
            "_________________________________________________________________\n",
            "max_pooling2d_2 (MaxPooling2 (None, 79, 79, 32)        0         \n",
            "_________________________________________________________________\n",
            "conv2d_4 (Conv2D)            (None, 77, 77, 64)        18496     \n",
            "_________________________________________________________________\n",
            "max_pooling2d_3 (MaxPooling2 (None, 38, 38, 64)        0         \n",
            "_________________________________________________________________\n",
            "conv2d_5 (Conv2D)            (None, 36, 36, 64)        36928     \n",
            "_________________________________________________________________\n",
            "flatten_1 (Flatten)          (None, 82944)             0         \n",
            "_________________________________________________________________\n",
            "dropout_2 (Dropout)          (None, 82944)             0         \n",
            "_________________________________________________________________\n",
            "dense_4 (Dense)              (None, 64)                5308480   \n",
            "_________________________________________________________________\n",
            "dropout_3 (Dropout)          (None, 64)                0         \n",
            "_________________________________________________________________\n",
            "dense_5 (Dense)              (None, 1)                 65        \n",
            "=================================================================\n",
            "Total params: 5,364,865\n",
            "Trainable params: 5,364,865\n",
            "Non-trainable params: 0\n",
            "_________________________________________________________________\n",
            "None\n",
            "Epoch 1/10\n",
            "63/63 [==============================] - 9s 125ms/step - loss: 6.9690 - accuracy: 0.5110 - val_loss: 0.6902 - val_accuracy: 0.5000\n",
            "Epoch 2/10\n",
            "63/63 [==============================] - 8s 117ms/step - loss: 0.6887 - accuracy: 0.5000 - val_loss: 0.6852 - val_accuracy: 0.5000\n",
            "Epoch 3/10\n",
            "63/63 [==============================] - 8s 116ms/step - loss: 0.6774 - accuracy: 0.5000 - val_loss: 0.6769 - val_accuracy: 0.5000\n",
            "Epoch 4/10\n",
            "63/63 [==============================] - 8s 116ms/step - loss: 0.6608 - accuracy: 0.5000 - val_loss: 0.6689 - val_accuracy: 0.5000\n",
            "Epoch 5/10\n",
            "63/63 [==============================] - 7s 115ms/step - loss: 0.6518 - accuracy: 0.5000 - val_loss: 0.6737 - val_accuracy: 0.5000\n",
            "Epoch 6/10\n",
            "63/63 [==============================] - 7s 115ms/step - loss: 0.6419 - accuracy: 0.5000 - val_loss: 0.6757 - val_accuracy: 0.5000\n",
            "Epoch 7/10\n",
            "63/63 [==============================] - 7s 114ms/step - loss: 0.6276 - accuracy: 0.5000 - val_loss: 0.6646 - val_accuracy: 0.5000\n",
            "Epoch 8/10\n",
            "63/63 [==============================] - 7s 115ms/step - loss: 0.6065 - accuracy: 0.5000 - val_loss: 0.6578 - val_accuracy: 0.5000\n",
            "Epoch 9/10\n",
            "63/63 [==============================] - 7s 114ms/step - loss: 0.6042 - accuracy: 0.5090 - val_loss: 0.6680 - val_accuracy: 0.5000\n",
            "Epoch 10/10\n",
            "63/63 [==============================] - 8s 115ms/step - loss: 0.5787 - accuracy: 0.5000 - val_loss: 0.6535 - val_accuracy: 0.5000\n",
            "Final Validation Accuracy: 0.5\n"
          ],
          "name": "stdout"
        },
        {
          "output_type": "display_data",
          "data": {
            "image/png": "[encoded data removed]",
            "text/plain": [
              "<Figure size 432x288 with 1 Axes>"
            ]
          },
          "metadata": {
            "tags": [],
            "needs_background": "light"
          }
        }
      ]
    },
    {
      "cell_type": "markdown",
      "metadata": {
        "id": "739m6u43LL54"
      },
      "source": [
        "Step 4: Let's try things with a model that is pre-trained (i.e., Transfer Learning) "
      ]
    },
    {
      "cell_type": "code",
      "metadata": {
        "colab": {
          "base_uri": "https://localhost:8080/",
          "height": 870
        },
        "id": "mEx0mdo-L3kY",
        "outputId": "2958bf7b-8217-4125-881e-5f6927a1c41c"
      },
      "source": [
        "inputs = tf.keras.Input(shape=(160, 160, 3))\n",
        "x = tf.keras.applications.mobilenet_v2.preprocess_input(inputs)\n",
        "\n",
        "base_model = tf.keras.applications.MobileNetV2(input_shape=IMG_SHAPE,\n",
        "                                               include_top=False,\n",
        "                                               weights='imagenet')\n",
        "base_model.trainable = False\n",
        "x = base_model(x)\n",
        "\n",
        "x = tf.keras.layers.GlobalAveragePooling2D()(x)\n",
        "outputs = tf.keras.layers.Dense(1)(x)\n",
        "model = tf.keras.Model(inputs, outputs)\n",
        "\n",
        "run_training(model,5)"
      ],
      "execution_count": null,
      "outputs": [
        {
          "output_type": "stream",
          "text": [
            "Model: \"model\"\n",
            "_________________________________________________________________\n",
            "Layer (type)                 Output Shape              Param #   \n",
            "=================================================================\n",
            "input_1 (InputLayer)         [(None, 160, 160, 3)]     0         \n",
            "_________________________________________________________________\n",
            "tf.math.truediv (TFOpLambda) (None, 160, 160, 3)       0         \n",
            "_________________________________________________________________\n",
            "tf.math.subtract (TFOpLambda (None, 160, 160, 3)       0         \n",
            "_________________________________________________________________\n",
            "mobilenetv2_1.00_160 (Functi (None, 5, 5, 1280)        2257984   \n",
            "_________________________________________________________________\n",
            "global_average_pooling2d (Gl (None, 1280)              0         \n",
            "_________________________________________________________________\n",
            "dense_2 (Dense)              (None, 1)                 1281      \n",
            "=================================================================\n",
            "Total params: 2,259,265\n",
            "Trainable params: 1,281\n",
            "Non-trainable params: 2,257,984\n",
            "_________________________________________________________________\n",
            "None\n",
            "Epoch 1/5\n",
            "63/63 [==============================] - 13s 143ms/step - loss: 0.5170 - accuracy: 0.7385 - val_loss: 0.4065 - val_accuracy: 0.8000\n",
            "Epoch 2/5\n",
            "63/63 [==============================] - 8s 123ms/step - loss: 0.3475 - accuracy: 0.8505 - val_loss: 0.2905 - val_accuracy: 0.8780\n",
            "Epoch 3/5\n",
            "63/63 [==============================] - 8s 120ms/step - loss: 0.2592 - accuracy: 0.9020 - val_loss: 0.2262 - val_accuracy: 0.9200\n",
            "Epoch 4/5\n",
            "63/63 [==============================] - 8s 122ms/step - loss: 0.2082 - accuracy: 0.9270 - val_loss: 0.1864 - val_accuracy: 0.9410\n",
            "Epoch 5/5\n",
            "63/63 [==============================] - 8s 122ms/step - loss: 0.1752 - accuracy: 0.9370 - val_loss: 0.1600 - val_accuracy: 0.9470\n",
            "Final Validation Accuracy: 0.9470000267028809\n"
          ],
          "name": "stdout"
        },
        {
          "output_type": "display_data",
          "data": {
            "image/png": "[encoded data removed]",
            "text/plain": [
              "<Figure size 432x288 with 1 Axes>"
            ]
          },
          "metadata": {
            "tags": [],
            "needs_background": "light"
          }
        }
      ]
    },
    {
      "cell_type": "markdown",
      "metadata": {
        "id": "THjcwuDAN8lS"
      },
      "source": [
        "Now just in case you think it is the difference in the architecture only that improves things, let's try the same architecture, but this time we randomise our weights intead of building on weights that were pre-trained on the popular imagenet dataset. "
      ]
    },
    {
      "cell_type": "code",
      "metadata": {
        "colab": {
          "base_uri": "https://localhost:8080/",
          "height": 870
        },
        "id": "R0eXyMDWN81T",
        "outputId": "2197fe62-5d4e-4a0e-a4d0-425aa4ea4d1d"
      },
      "source": [
        "inputs = tf.keras.Input(shape=(160, 160, 3))\n",
        "x = tf.keras.applications.mobilenet_v2.preprocess_input(inputs)\n",
        "\n",
        "base_model = tf.keras.applications.MobileNetV2(input_shape=IMG_SHAPE,\n",
        "                                               include_top=False,\n",
        "                                               weights=None)\n",
        "base_model.trainable = True\n",
        "x = base_model(x)\n",
        "\n",
        "x = tf.keras.layers.GlobalAveragePooling2D()(x)\n",
        "outputs = tf.keras.layers.Dense(1)(x)\n",
        "model = tf.keras.Model(inputs, outputs)\n",
        "\n",
        "run_training(model,5)"
      ],
      "execution_count": null,
      "outputs": [
        {
          "output_type": "stream",
          "text": [
            "Model: \"model_1\"\n",
            "_________________________________________________________________\n",
            "Layer (type)                 Output Shape              Param #   \n",
            "=================================================================\n",
            "input_3 (InputLayer)         [(None, 160, 160, 3)]     0         \n",
            "_________________________________________________________________\n",
            "tf.math.truediv_1 (TFOpLambd (None, 160, 160, 3)       0         \n",
            "_________________________________________________________________\n",
            "tf.math.subtract_1 (TFOpLamb (None, 160, 160, 3)       0         \n",
            "_________________________________________________________________\n",
            "mobilenetv2_1.00_160 (Functi (None, 5, 5, 1280)        2257984   \n",
            "_________________________________________________________________\n",
            "global_average_pooling2d_1 ( (None, 1280)              0         \n",
            "_________________________________________________________________\n",
            "dense_3 (Dense)              (None, 1)                 1281      \n",
            "=================================================================\n",
            "Total params: 2,259,265\n",
            "Trainable params: 2,225,153\n",
            "Non-trainable params: 34,112\n",
            "_________________________________________________________________\n",
            "None\n",
            "Epoch 1/5\n",
            "63/63 [==============================] - 24s 280ms/step - loss: 0.6920 - accuracy: 0.5180 - val_loss: 0.6932 - val_accuracy: 0.5000\n",
            "Epoch 2/5\n",
            "63/63 [==============================] - 16s 258ms/step - loss: 0.6528 - accuracy: 0.5785 - val_loss: 0.6934 - val_accuracy: 0.5000\n",
            "Epoch 3/5\n",
            "63/63 [==============================] - 17s 259ms/step - loss: 0.6114 - accuracy: 0.6210 - val_loss: 0.6938 - val_accuracy: 0.5000\n",
            "Epoch 4/5\n",
            "63/63 [==============================] - 17s 261ms/step - loss: 0.5758 - accuracy: 0.6825 - val_loss: 0.6943 - val_accuracy: 0.5000\n",
            "Epoch 5/5\n",
            "63/63 [==============================] - 17s 262ms/step - loss: 0.5266 - accuracy: 0.7265 - val_loss: 0.6958 - val_accuracy: 0.5000\n",
            "Final Validation Accuracy: 0.5\n"
          ],
          "name": "stdout"
        },
        {
          "output_type": "display_data",
          "data": {
            "image/png": "[encoded data removed]",
            "text/plain": [
              "<Figure size 432x288 with 1 Axes>"
            ]
          },
          "metadata": {
            "tags": [],
            "needs_background": "light"
          }
        }
      ]
    }
  ]
}